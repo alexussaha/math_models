{
 "cells": [
  {
   "cell_type": "markdown",
   "metadata": {},
   "source": [
    "Выполнил: Усов Александр Александрович НБИбд-02-18\n",
    "\t\n",
    "\t\t\t\tВариант 18\n",
    "\n",
    "|Номер региона |\tСреднедушевой прожиточный минимум в день одного трудоспособного, руб., x |\tСреднедневная заработная плата, руб., y |\n",
    "| --- | --- | --- |\n",
    "|1 |69|\t124|\n",
    "|2 |83|\t133 |\n",
    "|3 |92|146|\n",
    "|4 |97|153 |\n",
    "|5 |88|138 |\n",
    "|6 |93|159 |\n",
    "|7 |74|145 |\n",
    "|8 |79|152 |\n",
    "|9 |105|168 |\n",
    "|10|99|154| \n",
    "|11|85|127 |\n",
    "|12|94|155 |\n"
   ]
  },
  {
   "cell_type": "markdown",
   "metadata": {},
   "source": [
    "Задание 1 для самостоятельной работы\n",
    "1. Оценить линейное уравнение парной регрессии Y от X,\n",
    "проинтерпретировать коэффициенты регрессии.\n",
    "2. Проверить статистическую значимость уравнения в\n",
    "целом\n",
    "3. Рассчитать линейный коэффициент парной корреляции и\n",
    "его стандартную ошибку. Дать интерпретацию\n",
    "коэффициентов корреляции и детерминации.\n",
    "4. Проверить значимость коэффициентов регрессии и\n",
    "корреляции на 1%, 5% и 10% уровне. На каком уровне\n",
    "достаточно провести проверку каждого из коэффициентов в\n",
    "вашем случае?\n",
    "5. Рассчитать коэффициент эластичности и\n",
    "проинтерпретировать его.\n",
    "6. Рассчитать среднюю ошибку аппроксимации и оценить\n",
    "по этому критерию качество модели.\n",
    "7. Выполнить прогноз Y при прогнозном значении X -\n",
    "107% от среднего уровня. Оценить точность прогноза,\n",
    "рассчитав ошибку прогноза и его доверительный интервал\n",
    "8. Представить результат оценки регрессии графически"
   ]
  },
  {
   "cell_type": "markdown",
   "metadata": {},
   "source": [
    "# 1. Оценить линейное уравнение Y от X, проинтерпретировать коэффициенты регрессии"
   ]
  },
  {
   "cell_type": "code",
   "execution_count": 33,
   "metadata": {},
   "outputs": [],
   "source": [
    "import pandas as pd\n",
    "import numpy as np\n",
    "import statsmodels.api as sm\n",
    "import scipy"
   ]
  },
  {
   "cell_type": "code",
   "execution_count": 8,
   "metadata": {},
   "outputs": [
    {
     "data": {
      "text/html": [
       "<div>\n",
       "<style scoped>\n",
       "    .dataframe tbody tr th:only-of-type {\n",
       "        vertical-align: middle;\n",
       "    }\n",
       "\n",
       "    .dataframe tbody tr th {\n",
       "        vertical-align: top;\n",
       "    }\n",
       "\n",
       "    .dataframe thead th {\n",
       "        text-align: right;\n",
       "    }\n",
       "</style>\n",
       "<table border=\"1\" class=\"dataframe\">\n",
       "  <thead>\n",
       "    <tr style=\"text-align: right;\">\n",
       "      <th></th>\n",
       "      <th>x</th>\n",
       "      <th>y</th>\n",
       "    </tr>\n",
       "  </thead>\n",
       "  <tbody>\n",
       "    <tr>\n",
       "      <th>0</th>\n",
       "      <td>69</td>\n",
       "      <td>124</td>\n",
       "    </tr>\n",
       "    <tr>\n",
       "      <th>1</th>\n",
       "      <td>83</td>\n",
       "      <td>133</td>\n",
       "    </tr>\n",
       "    <tr>\n",
       "      <th>2</th>\n",
       "      <td>92</td>\n",
       "      <td>146</td>\n",
       "    </tr>\n",
       "    <tr>\n",
       "      <th>3</th>\n",
       "      <td>97</td>\n",
       "      <td>153</td>\n",
       "    </tr>\n",
       "    <tr>\n",
       "      <th>4</th>\n",
       "      <td>88</td>\n",
       "      <td>138</td>\n",
       "    </tr>\n",
       "    <tr>\n",
       "      <th>5</th>\n",
       "      <td>93</td>\n",
       "      <td>159</td>\n",
       "    </tr>\n",
       "    <tr>\n",
       "      <th>6</th>\n",
       "      <td>74</td>\n",
       "      <td>145</td>\n",
       "    </tr>\n",
       "    <tr>\n",
       "      <th>7</th>\n",
       "      <td>79</td>\n",
       "      <td>152</td>\n",
       "    </tr>\n",
       "    <tr>\n",
       "      <th>8</th>\n",
       "      <td>105</td>\n",
       "      <td>168</td>\n",
       "    </tr>\n",
       "    <tr>\n",
       "      <th>9</th>\n",
       "      <td>99</td>\n",
       "      <td>154</td>\n",
       "    </tr>\n",
       "    <tr>\n",
       "      <th>10</th>\n",
       "      <td>85</td>\n",
       "      <td>127</td>\n",
       "    </tr>\n",
       "    <tr>\n",
       "      <th>11</th>\n",
       "      <td>94</td>\n",
       "      <td>155</td>\n",
       "    </tr>\n",
       "  </tbody>\n",
       "</table>\n",
       "</div>"
      ],
      "text/plain": [
       "      x    y\n",
       "0    69  124\n",
       "1    83  133\n",
       "2    92  146\n",
       "3    97  153\n",
       "4    88  138\n",
       "5    93  159\n",
       "6    74  145\n",
       "7    79  152\n",
       "8   105  168\n",
       "9    99  154\n",
       "10   85  127\n",
       "11   94  155"
      ]
     },
     "execution_count": 8,
     "metadata": {},
     "output_type": "execute_result"
    }
   ],
   "source": [
    "df = pd.read_excel(r'C:\\Users\\usov_\\данные.XLSX')\n",
    "df.head(12)"
   ]
  },
  {
   "cell_type": "code",
   "execution_count": 18,
   "metadata": {},
   "outputs": [
    {
     "data": {
      "text/html": [
       "<div>\n",
       "<style scoped>\n",
       "    .dataframe tbody tr th:only-of-type {\n",
       "        vertical-align: middle;\n",
       "    }\n",
       "\n",
       "    .dataframe tbody tr th {\n",
       "        vertical-align: top;\n",
       "    }\n",
       "\n",
       "    .dataframe thead th {\n",
       "        text-align: right;\n",
       "    }\n",
       "</style>\n",
       "<table border=\"1\" class=\"dataframe\">\n",
       "  <thead>\n",
       "    <tr style=\"text-align: right;\">\n",
       "      <th></th>\n",
       "      <th>x</th>\n",
       "      <th>y</th>\n",
       "    </tr>\n",
       "  </thead>\n",
       "  <tbody>\n",
       "    <tr>\n",
       "      <th>count</th>\n",
       "      <td>12.000000</td>\n",
       "      <td>12.000000</td>\n",
       "    </tr>\n",
       "    <tr>\n",
       "      <th>mean</th>\n",
       "      <td>88.166667</td>\n",
       "      <td>146.166667</td>\n",
       "    </tr>\n",
       "    <tr>\n",
       "      <th>std</th>\n",
       "      <td>10.615883</td>\n",
       "      <td>13.354150</td>\n",
       "    </tr>\n",
       "    <tr>\n",
       "      <th>min</th>\n",
       "      <td>69.000000</td>\n",
       "      <td>124.000000</td>\n",
       "    </tr>\n",
       "    <tr>\n",
       "      <th>25%</th>\n",
       "      <td>82.000000</td>\n",
       "      <td>136.750000</td>\n",
       "    </tr>\n",
       "    <tr>\n",
       "      <th>50%</th>\n",
       "      <td>90.000000</td>\n",
       "      <td>149.000000</td>\n",
       "    </tr>\n",
       "    <tr>\n",
       "      <th>75%</th>\n",
       "      <td>94.750000</td>\n",
       "      <td>154.250000</td>\n",
       "    </tr>\n",
       "    <tr>\n",
       "      <th>max</th>\n",
       "      <td>105.000000</td>\n",
       "      <td>168.000000</td>\n",
       "    </tr>\n",
       "  </tbody>\n",
       "</table>\n",
       "</div>"
      ],
      "text/plain": [
       "                x           y\n",
       "count   12.000000   12.000000\n",
       "mean    88.166667  146.166667\n",
       "std     10.615883   13.354150\n",
       "min     69.000000  124.000000\n",
       "25%     82.000000  136.750000\n",
       "50%     90.000000  149.000000\n",
       "75%     94.750000  154.250000\n",
       "max    105.000000  168.000000"
      ]
     },
     "execution_count": 18,
     "metadata": {},
     "output_type": "execute_result"
    }
   ],
   "source": [
    "df.describe()"
   ]
  },
  {
   "cell_type": "code",
   "execution_count": 12,
   "metadata": {},
   "outputs": [
    {
     "data": {
      "text/plain": [
       "array([124, 133, 146, 153, 138, 159, 145, 152, 168, 154, 127, 155],\n",
       "      dtype=int64)"
      ]
     },
     "execution_count": 12,
     "metadata": {},
     "output_type": "execute_result"
    }
   ],
   "source": [
    "x = np.array(df.x).reshape((-1, 1))\n",
    "y = np.array(df.y)"
   ]
  },
  {
   "cell_type": "code",
   "execution_count": 26,
   "metadata": {},
   "outputs": [],
   "source": [
    "x = sm.add_constant(x)\n",
    "model = sm.OLS(y, x)"
   ]
  },
  {
   "cell_type": "code",
   "execution_count": 27,
   "metadata": {},
   "outputs": [],
   "source": [
    "res = model.fit()"
   ]
  },
  {
   "cell_type": "code",
   "execution_count": 28,
   "metadata": {},
   "outputs": [
    {
     "data": {
      "text/html": [
       "<table class=\"simpletable\">\n",
       "<caption>OLS Regression Results</caption>\n",
       "<tr>\n",
       "  <th>Dep. Variable:</th>            <td>y</td>        <th>  R-squared:         </th> <td>   0.538</td>\n",
       "</tr>\n",
       "<tr>\n",
       "  <th>Model:</th>                   <td>OLS</td>       <th>  Adj. R-squared:    </th> <td>   0.492</td>\n",
       "</tr>\n",
       "<tr>\n",
       "  <th>Method:</th>             <td>Least Squares</td>  <th>  F-statistic:       </th> <td>   11.64</td>\n",
       "</tr>\n",
       "<tr>\n",
       "  <th>Date:</th>             <td>Wed, 16 Sep 2020</td> <th>  Prob (F-statistic):</th>  <td>0.00664</td>\n",
       "</tr>\n",
       "<tr>\n",
       "  <th>Time:</th>                 <td>10:51:06</td>     <th>  Log-Likelihood:    </th> <td> -42.976</td>\n",
       "</tr>\n",
       "<tr>\n",
       "  <th>No. Observations:</th>      <td>    12</td>      <th>  AIC:               </th> <td>   89.95</td>\n",
       "</tr>\n",
       "<tr>\n",
       "  <th>Df Residuals:</th>          <td>    10</td>      <th>  BIC:               </th> <td>   90.92</td>\n",
       "</tr>\n",
       "<tr>\n",
       "  <th>Df Model:</th>              <td>     1</td>      <th>                     </th>     <td> </td>   \n",
       "</tr>\n",
       "<tr>\n",
       "  <th>Covariance Type:</th>      <td>nonrobust</td>    <th>                     </th>     <td> </td>   \n",
       "</tr>\n",
       "</table>\n",
       "<table class=\"simpletable\">\n",
       "<tr>\n",
       "    <td></td>       <th>coef</th>     <th>std err</th>      <th>t</th>      <th>P>|t|</th>  <th>[0.025</th>    <th>0.975]</th>  \n",
       "</tr>\n",
       "<tr>\n",
       "  <th>const</th> <td>   64.8276</td> <td>   24.000</td> <td>    2.701</td> <td> 0.022</td> <td>   11.351</td> <td>  118.304</td>\n",
       "</tr>\n",
       "<tr>\n",
       "  <th>x1</th>    <td>    0.9226</td> <td>    0.270</td> <td>    3.412</td> <td> 0.007</td> <td>    0.320</td> <td>    1.525</td>\n",
       "</tr>\n",
       "</table>\n",
       "<table class=\"simpletable\">\n",
       "<tr>\n",
       "  <th>Omnibus:</th>       <td> 0.145</td> <th>  Durbin-Watson:     </th> <td>   1.209</td>\n",
       "</tr>\n",
       "<tr>\n",
       "  <th>Prob(Omnibus):</th> <td> 0.930</td> <th>  Jarque-Bera (JB):  </th> <td>   0.355</td>\n",
       "</tr>\n",
       "<tr>\n",
       "  <th>Skew:</th>          <td>-0.008</td> <th>  Prob(JB):          </th> <td>   0.837</td>\n",
       "</tr>\n",
       "<tr>\n",
       "  <th>Kurtosis:</th>      <td> 2.158</td> <th>  Cond. No.          </th> <td>    775.</td>\n",
       "</tr>\n",
       "</table><br/><br/>Warnings:<br/>[1] Standard Errors assume that the covariance matrix of the errors is correctly specified."
      ],
      "text/plain": [
       "<class 'statsmodels.iolib.summary.Summary'>\n",
       "\"\"\"\n",
       "                            OLS Regression Results                            \n",
       "==============================================================================\n",
       "Dep. Variable:                      y   R-squared:                       0.538\n",
       "Model:                            OLS   Adj. R-squared:                  0.492\n",
       "Method:                 Least Squares   F-statistic:                     11.64\n",
       "Date:                Wed, 16 Sep 2020   Prob (F-statistic):            0.00664\n",
       "Time:                        10:51:06   Log-Likelihood:                -42.976\n",
       "No. Observations:                  12   AIC:                             89.95\n",
       "Df Residuals:                      10   BIC:                             90.92\n",
       "Df Model:                           1                                         \n",
       "Covariance Type:            nonrobust                                         \n",
       "==============================================================================\n",
       "                 coef    std err          t      P>|t|      [0.025      0.975]\n",
       "------------------------------------------------------------------------------\n",
       "const         64.8276     24.000      2.701      0.022      11.351     118.304\n",
       "x1             0.9226      0.270      3.412      0.007       0.320       1.525\n",
       "==============================================================================\n",
       "Omnibus:                        0.145   Durbin-Watson:                   1.209\n",
       "Prob(Omnibus):                  0.930   Jarque-Bera (JB):                0.355\n",
       "Skew:                          -0.008   Prob(JB):                        0.837\n",
       "Kurtosis:                       2.158   Cond. No.                         775.\n",
       "==============================================================================\n",
       "\n",
       "Warnings:\n",
       "[1] Standard Errors assume that the covariance matrix of the errors is correctly specified.\n",
       "\"\"\""
      ]
     },
     "execution_count": 28,
     "metadata": {},
     "output_type": "execute_result"
    }
   ],
   "source": [
    "res.summary()"
   ]
  },
  {
   "cell_type": "markdown",
   "metadata": {},
   "source": [
    "Уравнение:\n",
    "\n",
    "Y = 0,922560*X + 64,8276\n",
    "Y = b*X + a\n",
    "\n",
    "Вывод: при возрастании х (среднедушевой прожиточный минимум в день одного трудоспособного) на 1 рубль у (Среднедневная заработная плата) в среднем возрастает на 0,92."
   ]
  },
  {
   "cell_type": "markdown",
   "metadata": {},
   "source": [
    "# 2. Проверить статистическую значимость уравнения в целом"
   ]
  },
  {
   "cell_type": "markdown",
   "metadata": {},
   "source": [
    "$H_0$: Уравнение незначимо в целом (a=b=0)\n",
    "\n",
    "$H_1$: Уравнение значимо (b≠0)"
   ]
  },
  {
   "cell_type": "code",
   "execution_count": 43,
   "metadata": {},
   "outputs": [
    {
     "data": {
      "text/plain": [
       "0.006641358899593468"
      ]
     },
     "execution_count": 43,
     "metadata": {},
     "output_type": "execute_result"
    }
   ],
   "source": [
    "res.f_pvalue"
   ]
  },
  {
   "cell_type": "markdown",
   "metadata": {},
   "source": [
    "Мы видим, что Р-значение (F - stat) = 0,00664 < 0,01 => мы принимаем гипотезу H1 с вероятностью 99%\n",
    "\n",
    "Вывод: Уравнение значимо"
   ]
  },
  {
   "cell_type": "markdown",
   "metadata": {},
   "source": [
    "# 3 Рассчитать линейный коэффициент парной корреляции и его стандартную ошибку. Дать интерпретацию коэффициентов корреляции и детерминации."
   ]
  },
  {
   "cell_type": "markdown",
   "metadata": {},
   "source": [
    "Корреляция"
   ]
  },
  {
   "cell_type": "code",
   "execution_count": 49,
   "metadata": {},
   "outputs": [],
   "source": [
    "rxy, p_val_r_xy = scipy.stats.pearsonr(np.array(df.x), y)"
   ]
  },
  {
   "cell_type": "code",
   "execution_count": 50,
   "metadata": {},
   "outputs": [
    {
     "data": {
      "text/plain": [
       "0.7333890059716978"
      ]
     },
     "execution_count": 50,
     "metadata": {},
     "output_type": "execute_result"
    }
   ],
   "source": [
    "rxy"
   ]
  },
  {
   "cell_type": "code",
   "execution_count": 51,
   "metadata": {},
   "outputs": [
    {
     "data": {
      "text/plain": [
       "0.0066413588995934214"
      ]
     },
     "execution_count": 51,
     "metadata": {},
     "output_type": "execute_result"
    }
   ],
   "source": [
    "p_val_r_xy"
   ]
  },
  {
   "cell_type": "markdown",
   "metadata": {},
   "source": [
    "Коэффициент корреляции $$R_xy$≈0,73. $\n",
    "\n",
    "Шкала Чеддока относит такой уровень корреляции к высоким $(0,7<$R_xy$<0,9)$\n",
    "\n",
    "Т. к. $ $R_xy$>0 $=> $х$ (среднедушевой прожиточный минимум в день одного трудоспособного) и $у$ (Среднедневная заработная плата) положительно коррелированы. \n",
    "\n",
    "Это значит, что они ведут себя одинаково (либо вместе возрастают, либо вместе убывают)"
   ]
  },
  {
   "cell_type": "markdown",
   "metadata": {},
   "source": [
    "Проверим полученное значение:\n",
    "\n",
    "$H_0$:R_xy=0\n",
    "\n",
    "$H_1$:R_xy≠0\n",
    "\n",
    "Из полученных результатов мы видим, что двухстороннее р-значение 0,0066\n",
    "\n",
    "$Prob = 0,0066 < 0,01$ => мы с 99% вероятностью принимаем гипотезу $H_1$ и можем утверждать, что $R_xy≠0$\n",
    "\n",
    "Вывод: $х$ (среднедушевой прожиточный минимум в день одного трудоспособного) и $у$ (Среднедневная заработная плата) ведут себя одинаково (либо вместе возрастают, либо вместе убывают)\n"
   ]
  },
  {
   "cell_type": "markdown",
   "metadata": {},
   "source": [
    "Детерминация"
   ]
  },
  {
   "cell_type": "code",
   "execution_count": 40,
   "metadata": {},
   "outputs": [
    {
     "data": {
      "text/plain": [
       "0.5378594340801544"
      ]
     },
     "execution_count": 40,
     "metadata": {},
     "output_type": "execute_result"
    }
   ],
   "source": [
    "res.rsquared"
   ]
  },
  {
   "cell_type": "markdown",
   "metadata": {},
   "source": [
    "$R-квадрат$               0,537859\n",
    "\n",
    "Из таблицы 1 $R^2=0,54 ≈54 $%$ $\n",
    "\n",
    "Вывод: Y (Среднедневная заработная плата) объясняется X (среднедушевой прожиточный минимум в день одного трудоспособного) на 54% по смыслу своих данных\n",
    "\n"
   ]
  },
  {
   "cell_type": "markdown",
   "metadata": {},
   "source": [
    "# 4.\tПроверить значимость коэффициентов регрессии и корреляции на 1%, 5% и 10% уровне. На каком уровне достаточно провести проверку каждого из коэффициентов в вашем случае?"
   ]
  },
  {
   "cell_type": "code",
   "execution_count": 45,
   "metadata": {},
   "outputs": [
    {
     "data": {
      "text/plain": [
       "array([0.022271  , 0.00664136])"
      ]
     },
     "execution_count": 45,
     "metadata": {},
     "output_type": "execute_result"
    }
   ],
   "source": [
    "res.pvalues"
   ]
  },
  {
   "cell_type": "markdown",
   "metadata": {},
   "source": [
    "$Y = 0,922560*X + 64,8276$\n",
    "\n",
    "$Y = b*X + a$\n",
    "\n",
    "\n",
    "\n",
    "$H_0$:b=0 (коэфициент b незначим)\n",
    "\n",
    "$H_1$:b≠0 (коэфициент b значим)\n",
    "\n",
    " $Prob = 0,0066 < 0,01$ => С вероятностью 99% принимаем гипотезу $H_1$. Коэффициент при $Х$ (среднедушевой прожиточный минимум в день одного трудоспособного) значим.\n",
    " \n",
    "$H_0$:a=0 (коэфициент a незначим)\n",
    "\n",
    "$H_1$:a≠0 (коэфициент a значим)\n",
    "\n",
    " $Prob = 0,0223 < 0,05$ => С вероятностью 95% принимаем гипотезу $H_1$. Коэффициент $a$ является значимым.\n",
    "\n",
    "\n"
   ]
  },
  {
   "cell_type": "code",
   "execution_count": 52,
   "metadata": {},
   "outputs": [
    {
     "data": {
      "text/plain": [
       "0.0066413588995934214"
      ]
     },
     "execution_count": 52,
     "metadata": {},
     "output_type": "execute_result"
    }
   ],
   "source": [
    "p_val_r_xy"
   ]
  },
  {
   "cell_type": "markdown",
   "metadata": {},
   "source": [
    "$H_0$:$R_xy$=0\n",
    "\n",
    "$H_1$:$R_xy$≠0\n",
    "\n",
    "Из полученных результатов мы видим, что двухстороннее р-значение 0,0066\n",
    "\n",
    "$Prob = 0,0066 < 0,01$ => мы с 99% вероятностью принимаем гипотезу $H_1$ и можем утверждать, что $R_xy$≠0\n",
    "\n",
    "Вывод: $a$, $b$ и $Rxy$ отличаются от 0 не случайно."
   ]
  },
  {
   "cell_type": "markdown",
   "metadata": {},
   "source": [
    "# 5.\tРассчитать коэффициент эластичности и проинтерпретировать его. "
   ]
  },
  {
   "cell_type": "code",
   "execution_count": 54,
   "metadata": {},
   "outputs": [
    {
     "data": {
      "text/html": [
       "<div>\n",
       "<style scoped>\n",
       "    .dataframe tbody tr th:only-of-type {\n",
       "        vertical-align: middle;\n",
       "    }\n",
       "\n",
       "    .dataframe tbody tr th {\n",
       "        vertical-align: top;\n",
       "    }\n",
       "\n",
       "    .dataframe thead th {\n",
       "        text-align: right;\n",
       "    }\n",
       "</style>\n",
       "<table border=\"1\" class=\"dataframe\">\n",
       "  <thead>\n",
       "    <tr style=\"text-align: right;\">\n",
       "      <th></th>\n",
       "      <th>x</th>\n",
       "      <th>y</th>\n",
       "    </tr>\n",
       "  </thead>\n",
       "  <tbody>\n",
       "    <tr>\n",
       "      <th>count</th>\n",
       "      <td>12.000000</td>\n",
       "      <td>12.000000</td>\n",
       "    </tr>\n",
       "    <tr>\n",
       "      <th>mean</th>\n",
       "      <td>88.166667</td>\n",
       "      <td>146.166667</td>\n",
       "    </tr>\n",
       "    <tr>\n",
       "      <th>std</th>\n",
       "      <td>10.615883</td>\n",
       "      <td>13.354150</td>\n",
       "    </tr>\n",
       "    <tr>\n",
       "      <th>min</th>\n",
       "      <td>69.000000</td>\n",
       "      <td>124.000000</td>\n",
       "    </tr>\n",
       "    <tr>\n",
       "      <th>25%</th>\n",
       "      <td>82.000000</td>\n",
       "      <td>136.750000</td>\n",
       "    </tr>\n",
       "    <tr>\n",
       "      <th>50%</th>\n",
       "      <td>90.000000</td>\n",
       "      <td>149.000000</td>\n",
       "    </tr>\n",
       "    <tr>\n",
       "      <th>75%</th>\n",
       "      <td>94.750000</td>\n",
       "      <td>154.250000</td>\n",
       "    </tr>\n",
       "    <tr>\n",
       "      <th>max</th>\n",
       "      <td>105.000000</td>\n",
       "      <td>168.000000</td>\n",
       "    </tr>\n",
       "  </tbody>\n",
       "</table>\n",
       "</div>"
      ],
      "text/plain": [
       "                x           y\n",
       "count   12.000000   12.000000\n",
       "mean    88.166667  146.166667\n",
       "std     10.615883   13.354150\n",
       "min     69.000000  124.000000\n",
       "25%     82.000000  136.750000\n",
       "50%     90.000000  149.000000\n",
       "75%     94.750000  154.250000\n",
       "max    105.000000  168.000000"
      ]
     },
     "execution_count": 54,
     "metadata": {},
     "output_type": "execute_result"
    }
   ],
   "source": [
    "df.describe()"
   ]
  },
  {
   "cell_type": "markdown",
   "metadata": {},
   "source": [
    "$(∋yx) ̅      =b*x ̅/y ̅ $"
   ]
  },
  {
   "cell_type": "code",
   "execution_count": 58,
   "metadata": {},
   "outputs": [],
   "source": [
    "el_x_y = res.params[1] * df.x.mean()/df.y.mean()"
   ]
  },
  {
   "cell_type": "code",
   "execution_count": 60,
   "metadata": {},
   "outputs": [
    {
     "data": {
      "text/plain": [
       "0.5564813557181009"
      ]
     },
     "execution_count": 60,
     "metadata": {},
     "output_type": "execute_result"
    }
   ],
   "source": [
    "el_x_y"
   ]
  },
  {
   "cell_type": "markdown",
   "metadata": {},
   "source": [
    "$0.556<1$ => y не эластичен по $х$\n",
    "При возрастании $х$ (среднедушевой прожиточный минимум в день одного трудоспособного) на 1% $y$ (Среднедневная заработная плата) возрастает на 0,556%\n"
   ]
  },
  {
   "cell_type": "markdown",
   "metadata": {},
   "source": [
    "# 6.\tРассчитать среднюю ошибку аппроксимации и оценить по этому критерию качество модели."
   ]
  },
  {
   "cell_type": "code",
   "execution_count": 63,
   "metadata": {},
   "outputs": [],
   "source": [
    "from sklearn.metrics import mean_absolute_error"
   ]
  },
  {
   "cell_type": "code",
   "execution_count": 148,
   "metadata": {},
   "outputs": [],
   "source": [
    "y_pred = res.predict(x)"
   ]
  },
  {
   "cell_type": "code",
   "execution_count": 149,
   "metadata": {},
   "outputs": [
    {
     "data": {
      "text/plain": [
       "array([128.48426997, 141.40010756, 149.70314601, 154.31594515,\n",
       "       146.0129067 , 150.62570583, 133.0970691 , 137.70986824,\n",
       "       161.69642377, 156.1610648 , 143.24522721, 151.54826566])"
      ]
     },
     "execution_count": 149,
     "metadata": {},
     "output_type": "execute_result"
    }
   ],
   "source": [
    "y_pred"
   ]
  },
  {
   "cell_type": "code",
   "execution_count": 150,
   "metadata": {},
   "outputs": [],
   "source": [
    "def mean_absolute_percentage_error(y_true, y_pred):\n",
    "    y_true, y_pred = np.array(y_true), np.array(y_pred)\n",
    "    return np.mean(np.abs((y_true - y_pred) / y_true)) * 100"
   ]
  },
  {
   "cell_type": "code",
   "execution_count": 151,
   "metadata": {},
   "outputs": [
    {
     "data": {
      "text/plain": [
       "5.182183322740752"
      ]
     },
     "execution_count": 151,
     "metadata": {},
     "output_type": "execute_result"
    }
   ],
   "source": [
    "mean_absolute_percentage_error(y, y_pred)"
   ]
  },
  {
   "cell_type": "markdown",
   "metadata": {},
   "source": [
    "Вывод: Качество модели отличное, т.к. ошибка аппроксимации (MAPE=5,1822) меньше 10%"
   ]
  },
  {
   "cell_type": "markdown",
   "metadata": {},
   "source": [
    "# 7.\tВыполнить прогноз Y при прогнозном значении X - 107% от среднего уровня. Оценить точность прогноза, рассчитав ошибку прогноза и его доверительный интервал "
   ]
  },
  {
   "cell_type": "code",
   "execution_count": 94,
   "metadata": {},
   "outputs": [],
   "source": [
    "x_p = df.x.mean() * 1.07"
   ]
  },
  {
   "cell_type": "code",
   "execution_count": 153,
   "metadata": {},
   "outputs": [],
   "source": [
    "y_pred_x = res.get_prediction([1, x_p])"
   ]
  },
  {
   "cell_type": "code",
   "execution_count": 156,
   "metadata": {},
   "outputs": [
    {
     "data": {
      "text/html": [
       "<div>\n",
       "<style scoped>\n",
       "    .dataframe tbody tr th:only-of-type {\n",
       "        vertical-align: middle;\n",
       "    }\n",
       "\n",
       "    .dataframe tbody tr th {\n",
       "        vertical-align: top;\n",
       "    }\n",
       "\n",
       "    .dataframe thead th {\n",
       "        text-align: right;\n",
       "    }\n",
       "</style>\n",
       "<table border=\"1\" class=\"dataframe\">\n",
       "  <thead>\n",
       "    <tr style=\"text-align: right;\">\n",
       "      <th></th>\n",
       "      <th>mean</th>\n",
       "      <th>mean_se</th>\n",
       "      <th>mean_ci_lower</th>\n",
       "      <th>mean_ci_upper</th>\n",
       "      <th>obs_ci_lower</th>\n",
       "      <th>obs_ci_upper</th>\n",
       "    </tr>\n",
       "  </thead>\n",
       "  <tbody>\n",
       "    <tr>\n",
       "      <th>0</th>\n",
       "      <td>151.860398</td>\n",
       "      <td>3.215617</td>\n",
       "      <td>144.695558</td>\n",
       "      <td>159.025239</td>\n",
       "      <td>129.468239</td>\n",
       "      <td>174.252558</td>\n",
       "    </tr>\n",
       "  </tbody>\n",
       "</table>\n",
       "</div>"
      ],
      "text/plain": [
       "         mean   mean_se  mean_ci_lower  mean_ci_upper  obs_ci_lower  \\\n",
       "0  151.860398  3.215617     144.695558     159.025239    129.468239   \n",
       "\n",
       "   obs_ci_upper  \n",
       "0    174.252558  "
      ]
     },
     "execution_count": 156,
     "metadata": {},
     "output_type": "execute_result"
    }
   ],
   "source": [
    "y_pred_x.summary_frame()"
   ]
  },
  {
   "cell_type": "code",
   "execution_count": 164,
   "metadata": {},
   "outputs": [
    {
     "data": {
      "text/plain": [
       "array([10.04971463])"
      ]
     },
     "execution_count": 164,
     "metadata": {},
     "output_type": "execute_result"
    }
   ],
   "source": [
    "y_pred_x.se_obs"
   ]
  },
  {
   "cell_type": "markdown",
   "metadata": {},
   "source": [
    "($y ̂_1_3$-∆;$y ̂_1_3$+∆),alfa=0,05 \n",
    "\n",
    "Формула для прогноза:\n",
    "\n",
    "∆=ст.ошибка*t(h-2; 0,5)\n",
    "\n",
    "∆=10,05*t(10;0,5)=10,05*2,228=22.39\n",
    "\n",
    "$y ̂_13$=151,86\n",
    "Значит, прогнозное значение с вероятностью 95% будет лежать в интервале \n",
    "\n",
    "(151,86-22,39; 151,86+22,39) \n",
    "\n",
    "(129,47; 174,25)\n",
    "\n",
    "\n",
    "Вывод: прогнозируемое значение лежит в интервале (129,47; 174,25).\n"
   ]
  },
  {
   "cell_type": "markdown",
   "metadata": {},
   "source": [
    "#  8. Представить результат оценки регрессии графически"
   ]
  },
  {
   "cell_type": "code",
   "execution_count": 196,
   "metadata": {},
   "outputs": [
    {
     "name": "stdout",
     "output_type": "stream",
     "text": [
      "Populating the interactive namespace from numpy and matplotlib\n"
     ]
    },
    {
     "data": {
      "image/png": "[encoded data removed]",
      "text/plain": [
       "<Figure size 432x288 with 1 Axes>"
      ]
     },
     "metadata": {
      "needs_background": "light"
     },
     "output_type": "display_data"
    }
   ],
   "source": [
    "import matplotlib.pyplot as plt\n",
    "%pylab inline\n",
    "\n",
    "plt.scatter([x for x in range(0,12)], df.y, label=\"Наблюдаемые\")\n",
    "plt.scatter([x for x in range(0,12)], y_pred, c='red', label='Расчётные')\n",
    "plt.xlabel('num', fontsize=14)\n",
    "plt.ylabel('y', fontsize=14)\n",
    "plt.legend()\n",
    "plt.title(\"Наблюдаемые и расчётные y\")\n",
    "\n",
    "pylab.show()"
   ]
  }
 ],
 "metadata": {
  "kernelspec": {
   "display_name": "Python 3",
   "language": "python",
   "name": "python3"
  },
  "language_info": {
   "codemirror_mode": {
    "name": "ipython",
    "version": 3
   },
   "file_extension": ".py",
   "mimetype": "text/x-python",
   "name": "python",
   "nbconvert_exporter": "python",
   "pygments_lexer": "ipython3",
   "version": "3.7.6"
  }
 },
 "nbformat": 4,
 "nbformat_minor": 4
}
